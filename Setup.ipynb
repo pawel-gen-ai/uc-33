{
 "cells": [
  {
   "cell_type": "code",
   "execution_count": 1,
   "id": "48127507-f91f-478a-9c9c-cc4978d9b623",
   "metadata": {},
   "outputs": [
    {
     "data": {
      "text/plain": [
       "[948, 762, 847, 399, 781]"
      ]
     },
     "execution_count": 1,
     "metadata": {},
     "output_type": "execute_result"
    }
   ],
   "source": [
    "import pyspark \n",
    "sc = pyspark.SparkContext('local[*]')\n",
    "# do something to prove it works\n",
    "rdd = sc.parallelize(range(1000))\n",
    "rdd.takeSample(False, 5)\n"
   ]
  },
  {
   "cell_type": "code",
   "execution_count": 10,
   "id": "f1a52494-5019-4306-8d76-1ad8527d98c8",
   "metadata": {},
   "outputs": [
    {
     "name": "stdout",
     "output_type": "stream",
     "text": [
      "#accounts: 500000\n",
      "#country_abbreviation: 121\n",
      "#transactions: 5000000\n"
     ]
    }
   ],
   "source": [
    "from pyspark.sql import SparkSession\n",
    "\n",
    "# Initialize a Spark session\n",
    "spark = SparkSession.builder \\\n",
    "    .appName(\"Read CSV File\") \\\n",
    "    .getOrCreate()\n",
    "\n",
    "# Read the CSV file into a DataFrame\n",
    "df_accounts = spark.read.csv(\"accounts.csv\", header=True, inferSchema=True, sep=\";\")\n",
    "\n",
    "# Show count of the DataFrame accounts\n",
    "print(f\"#accounts: {df_accounts.count()}\")\n",
    "\n",
    "# Read the CSV file into a DataFrame\n",
    "df_country_abbreviation = spark.read.csv(\"country_abbreviation.csv\", header=True, inferSchema=True, sep=\";\")\n",
    "\n",
    "# Show count of the DataFrame country_abbreviation\n",
    "print(f\"#country_abbreviation: {df_country_abbreviation.count()}\")\n",
    "\n",
    "# Read the CSV file into a DataFrame\n",
    "df_transactions = spark.read.csv(\"transactions.csv\", header=True, inferSchema=True, sep=\";\")\n",
    "\n",
    "# Show count of the DataFrame transactions\n",
    "print(f\"#transactions: {df_transactions.count()}\")\n",
    "\n",
    "# Stop the Spark session when done\n",
    "spark.stop()"
   ]
  },
  {
   "cell_type": "code",
   "execution_count": null,
   "id": "6938c72a-8fcd-4ab8-91e9-5d858262b538",
   "metadata": {},
   "outputs": [],
   "source": []
  }
 ],
 "metadata": {
  "kernelspec": {
   "display_name": "Python 3 (ipykernel)",
   "language": "python",
   "name": "python3"
  },
  "language_info": {
   "codemirror_mode": {
    "name": "ipython",
    "version": 3
   },
   "file_extension": ".py",
   "mimetype": "text/x-python",
   "name": "python",
   "nbconvert_exporter": "python",
   "pygments_lexer": "ipython3",
   "version": "3.11.4"
  }
 },
 "nbformat": 4,
 "nbformat_minor": 5
}
