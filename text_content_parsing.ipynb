{
 "cells": [
  {
   "cell_type": "code",
   "execution_count": null,
   "id": "0154f946-ea76-4f82-b10b-c93a21c85923",
   "metadata": {},
   "outputs": [],
   "source": []
  },
  {
   "cell_type": "code",
   "execution_count": 16,
   "id": "19df6281-2632-4c24-8b80-e9e397a7e47b",
   "metadata": {},
   "outputs": [
    {
     "name": "stdout",
     "output_type": "stream",
     "text": [
      "+----+------------------+------+\n",
      "|idv2|            Col1v2|Col2v2|\n",
      "+----+------------------+------+\n",
      "|   1|     one,two,three|   one|\n",
      "|   2|     four,one,five|   six|\n",
      "|   3|seven,nine,one,two| eight|\n",
      "|   4|    two,three,five|  five|\n",
      "|   5|      six,five,one| seven|\n",
      "+----+------------------+------+\n",
      "\n"
     ]
    }
   ],
   "source": [
    "from pyspark.sql import SparkSession\n",
    "from pyspark.sql import Row\n",
    "\n",
    "def read_custom_text_file(filepath):\n",
    "    # Create or get SparkSession\n",
    "    spark = SparkSession.builder.appName(\"customTextFileReader\").getOrCreate()\n",
    "\n",
    "    # Read the file as RDD\n",
    "    rdd = spark.sparkContext.textFile(filepath)\n",
    "\n",
    "    # Filter out unwanted lines and split the content by '|'\n",
    "    def clean_row(line):\n",
    "        return not line.startswith('+') and not all([x.strip() == '' for x in line.split('|')])\n",
    "\n",
    "    rdd_clean = rdd.filter(clean_row).map(lambda line: [x.strip() for x in line.split('|')[1:-1]])\n",
    "\n",
    "    # Extract headers\n",
    "    headers = rdd_clean.first()\n",
    "\n",
    "    # Remove the headers from the RDD\n",
    "    rdd_data = rdd_clean.filter(lambda row: row != headers)\n",
    "\n",
    "    # Convert RDD to DataFrame using headers for column names\n",
    "    df = spark.createDataFrame(rdd_data, schema=headers)\n",
    "\n",
    "    return df\n",
    "\n",
    "# Test\n",
    "filepath = \"test_sample2.txt\"\n",
    "df = read_custom_text_file(filepath)\n",
    "df.show()"
   ]
  },
  {
   "cell_type": "code",
   "execution_count": null,
   "id": "8226b835-ebc0-4b3d-8b17-68bdae251322",
   "metadata": {},
   "outputs": [],
   "source": []
  }
 ],
 "metadata": {
  "kernelspec": {
   "display_name": "Python 3 (ipykernel)",
   "language": "python",
   "name": "python3"
  },
  "language_info": {
   "codemirror_mode": {
    "name": "ipython",
    "version": 3
   },
   "file_extension": ".py",
   "mimetype": "text/x-python",
   "name": "python",
   "nbconvert_exporter": "python",
   "pygments_lexer": "ipython3",
   "version": "3.11.4"
  }
 },
 "nbformat": 4,
 "nbformat_minor": 5
}
