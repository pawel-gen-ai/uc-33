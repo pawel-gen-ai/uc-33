{
 "cells": [
  {
   "cell_type": "code",
   "execution_count": 1,
   "id": "787dae1f-5d0c-4470-baa3-34950835ed29",
   "metadata": {},
   "outputs": [],
   "source": [
    "from pyspark.sql import SparkSession\n",
    "\n",
    "# Initialize a Spark session\n",
    "spark = SparkSession.builder \\\n",
    "    .appName(\"Spark SQL\") \\\n",
    "    .getOrCreate()"
   ]
  },
  {
   "cell_type": "code",
   "execution_count": 3,
   "id": "72078874-eea0-475d-bf88-e8e137abcc0a",
   "metadata": {},
   "outputs": [],
   "source": [
    "# Read the CSV files into a DataFrame accounts, country_abbreviation, transactions\n",
    "df_accounts = spark.read.csv(\"accounts.csv\", header=True, inferSchema=True, sep=\";\")\n",
    "df_country_abbreviation = spark.read.csv(\"country_abbreviation.csv\", header=True, inferSchema=True, sep=\";\")\n",
    "df_transactions = spark.read.csv(\"transactions.csv\", header=True, inferSchema=True, sep=\";\")\n"
   ]
  },
  {
   "cell_type": "code",
   "execution_count": 29,
   "id": "5e315ec6-c34d-494e-9fa8-f3b8ba7c44af",
   "metadata": {},
   "outputs": [
    {
     "name": "stdout",
     "output_type": "stream",
     "text": [
      "+------------+------------------+\n",
      "|account_type|account_type_count|\n",
      "+------------+------------------+\n",
      "|    Personal|            481997|\n",
      "|Without type|                20|\n",
      "|Professional|            482170|\n",
      "|    Business|            482350|\n",
      "+------------+------------------+\n",
      "\n",
      "root\n",
      " |-- account_type: string (nullable = false)\n",
      " |-- account_type_count: integer (nullable = false)\n",
      "\n"
     ]
    }
   ],
   "source": [
    "# Create temporary view on df\n",
    "df_accounts.createOrReplaceTempView(\"accounts\")\n",
    "df_transactions.createOrReplaceTempView(\"transactions\")\n",
    "result_df_accounts = spark.sql(\"\"\"\n",
    "    SELECT\n",
    "        COALESCE(t2.account_type, 'Without type') account_type\n",
    "        ,CAST(count(*) as INTEGER) account_type_count\n",
    "    FROM \n",
    "    (\n",
    "        SELECT DISTINCT a.id, t.account_type\n",
    "        FROM accounts a left JOIN transactions t on t.id = a.id\n",
    "    ) t2\n",
    "    GROUP BY t2.account_type\n",
    "\"\"\")\n",
    "result_df_accounts.show()\n",
    "result_df_accounts.printSchema()\n",
    "#df_transactions.createOrReplaceTempView(\"transactions\")\n",
    "\n"
   ]
  },
  {
   "cell_type": "code",
   "execution_count": 38,
   "id": "452a1f55-a656-4b37-b843-b1113ade19ab",
   "metadata": {},
   "outputs": [
    {
     "name": "stdout",
     "output_type": "stream",
     "text": [
      "+----------+------------------+-----------+\n",
      "|account_id|           balance|latest_date|\n",
      "+----------+------------------+-----------+\n",
      "|        12|32998.329999999994| 2021-05-16|\n",
      "|        22|          60841.95| 2021-12-05|\n",
      "|        26| 50989.13999999999| 2020-10-26|\n",
      "|        27|16375.809999999998| 2021-08-25|\n",
      "|        28|53104.520000000004| 2021-11-13|\n",
      "|        31|          26232.62| 2021-11-02|\n",
      "|        34|          22582.96| 2021-04-29|\n",
      "|        44|          41494.13| 2021-06-02|\n",
      "|        53|           14782.9| 2020-08-23|\n",
      "|        65| 47483.56999999999| 2021-10-30|\n",
      "|        76| 56286.51999999999| 2021-01-21|\n",
      "|        78|          38812.24| 2020-08-19|\n",
      "|        81| 63034.61000000001| 2021-11-30|\n",
      "|        85|          29603.43| 2020-07-05|\n",
      "|        91| 87256.99999999999| 2021-07-04|\n",
      "|        93|          11367.93| 2020-07-18|\n",
      "|       101|52479.630000000005| 2021-08-13|\n",
      "|       103|          76365.61| 2019-11-15|\n",
      "|       108|          54106.94| 2020-02-16|\n",
      "|       115|          52005.16| 2021-04-05|\n",
      "+----------+------------------+-----------+\n",
      "only showing top 20 rows\n",
      "\n",
      "root\n",
      " |-- account_id: string (nullable = true)\n",
      " |-- balance: string (nullable = false)\n",
      " |-- latest_date: date (nullable = true)\n",
      "\n"
     ]
    }
   ],
   "source": [
    "# return transaction balance datast\n",
    "result_df_transaction_balance = spark.sql(\"\"\"\n",
    "    SELECT CAST(a.id AS VARCHAR(38)) account_id\n",
    "        ,CAST(COALESCE(SUM(t.amount), 0) AS VARCHAR(38)) as balance\n",
    "        ,MAX(t.transaction_date) latest_date\n",
    "    FROM accounts a\n",
    "        LEFT JOIN transactions t on a.id = t.id\n",
    "    --WHERE t.id is null\n",
    "    GROUP BY a.id\n",
    "    \n",
    "\"\"\")\n",
    "result_df_transaction_balance.show()\n",
    "result_df_transaction_balance.printSchema()"
   ]
  },
  {
   "cell_type": "code",
   "execution_count": null,
   "id": "a6e61c0d-df57-4aeb-b638-718bfb38b68e",
   "metadata": {},
   "outputs": [],
   "source": []
  }
 ],
 "metadata": {
  "kernelspec": {
   "display_name": "Python 3 (ipykernel)",
   "language": "python",
   "name": "python3"
  },
  "language_info": {
   "codemirror_mode": {
    "name": "ipython",
    "version": 3
   },
   "file_extension": ".py",
   "mimetype": "text/x-python",
   "name": "python",
   "nbconvert_exporter": "python",
   "pygments_lexer": "ipython3",
   "version": "3.11.4"
  }
 },
 "nbformat": 4,
 "nbformat_minor": 5
}
