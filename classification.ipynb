{
 "cells": [
  {
   "cell_type": "code",
   "execution_count": 1,
   "id": "070c00b5-cafe-443b-ba25-92c4271b0c4d",
   "metadata": {},
   "outputs": [],
   "source": [
    "from pyspark.sql import SparkSession\n",
    "\n",
    "# Initialize a Spark session\n",
    "spark = SparkSession.builder \\\n",
    "    .appName(\"Spark Classification\") \\\n",
    "    .getOrCreate()"
   ]
  },
  {
   "cell_type": "code",
   "execution_count": 2,
   "id": "6e16cfa0-667e-49d1-b2b0-70020d4454bc",
   "metadata": {},
   "outputs": [],
   "source": [
    "df_transactions = spark.read.csv(\"transactions.csv\", header=True, inferSchema=True, sep=\";\")"
   ]
  },
  {
   "cell_type": "code",
   "execution_count": 3,
   "id": "5f649bcd-c4c8-4b03-86f3-3457d34f1b4c",
   "metadata": {},
   "outputs": [],
   "source": [
    "from pyspark.sql import SparkSession\n",
    "from pyspark.sql import functions as F\n",
    "from pyspark.sql.window import Window\n",
    "\n",
    "def categorize_transactions(transactions):\n",
    "    # Define a Window specification to order by amount in descending order\n",
    "    windowSpec = Window.orderBy(F.desc(\"amount\"))\n",
    "\n",
    "    # Calculate the percentiles for each transaction amount\n",
    "    transactions_with_percentile = transactions.withColumn(\n",
    "        \"percentile\",\n",
    "        F.percent_rank().over(windowSpec)\n",
    "    )\n",
    "\n",
    "    # Determine the \"level\" for each transaction based on its percentile\n",
    "    categorized_transactions = transactions_with_percentile.withColumn(\n",
    "        \"level\",\n",
    "        F.when(F.col(\"percentile\") <= 0.25, \"high\")\n",
    "        .when((F.col(\"percentile\") > 0.25) & (F.col(\"percentile\") <= 0.75), \"average\")\n",
    "        .otherwise(\"low\")\n",
    "    ).drop(\"percentile\") # Drop the percentile column since it's not needed in the final output\n",
    "\n",
    "    return categorized_transactions\n",
    "\n"
   ]
  },
  {
   "cell_type": "code",
   "execution_count": 4,
   "id": "f6d21ce5-aac6-4c95-a798-9bbfe4ae7999",
   "metadata": {},
   "outputs": [],
   "source": [
    "categorized_transactions_df = categorize_transactions(df_transactions)"
   ]
  },
  {
   "cell_type": "code",
   "execution_count": 5,
   "id": "84598e7a-ee8d-4eff-82d3-df5e366acdd8",
   "metadata": {},
   "outputs": [
    {
     "name": "stdout",
     "output_type": "stream",
     "text": [
      "+------+-------+------------+----------------+-------+-----+\n",
      "|    id| amount|account_type|transaction_date|country|level|\n",
      "+------+-------+------------+----------------+-------+-----+\n",
      "|426326|9999.99|    Business|      2015-08-07|     NL| high|\n",
      "|281332|9999.99|Professional|      2019-05-17|     GT| high|\n",
      "|103983|9999.98|    Personal|      2020-03-22|     CR| high|\n",
      "|259119|9999.98|    Personal|      2017-03-11|     UG| high|\n",
      "|317820|9999.98|Professional|      2019-11-07|     EE| high|\n",
      "|303197|9999.98|    Personal|      2016-11-11|     UA| high|\n",
      "|342602|9999.97|    Personal|      2014-02-16|     PE| high|\n",
      "| 58619|9999.97|    Personal|      2012-12-07|     SA| high|\n",
      "|189443|9999.97|    Business|      2016-06-19|     CN| high|\n",
      "|446171|9999.97|    Personal|      2017-04-21|     GB| high|\n",
      "| 99581|9999.97|    Business|      2011-12-06|     KE| high|\n",
      "|471114|9999.96|    Personal|      2012-01-25|     GR| high|\n",
      "|199378|9999.96|Professional|      2017-07-25|     PT| high|\n",
      "|360159|9999.96|    Personal|      2020-01-02|     CI| high|\n",
      "|473894|9999.95|    Personal|      2017-06-19|     ZA| high|\n",
      "|203948|9999.95|    Personal|      2021-04-20|     TT| high|\n",
      "|414850|9999.95|    Business|      2018-07-01|     ET| high|\n",
      "|394951|9999.93|Professional|      2018-07-13|     NI| high|\n",
      "|164490|9999.93|    Business|      2014-05-28|     LT| high|\n",
      "|446055|9999.93|    Business|      2016-08-11|     SG| high|\n",
      "+------+-------+------------+----------------+-------+-----+\n",
      "only showing top 20 rows\n",
      "\n"
     ]
    }
   ],
   "source": [
    "categorized_transactions_df.show()"
   ]
  },
  {
   "cell_type": "code",
   "execution_count": null,
   "id": "a6cd4a1a-0d95-452e-a223-a5ef25e702aa",
   "metadata": {},
   "outputs": [],
   "source": []
  }
 ],
 "metadata": {
  "kernelspec": {
   "display_name": "Python 3 (ipykernel)",
   "language": "python",
   "name": "python3"
  },
  "language_info": {
   "codemirror_mode": {
    "name": "ipython",
    "version": 3
   },
   "file_extension": ".py",
   "mimetype": "text/x-python",
   "name": "python",
   "nbconvert_exporter": "python",
   "pygments_lexer": "ipython3",
   "version": "3.11.4"
  }
 },
 "nbformat": 4,
 "nbformat_minor": 5
}
