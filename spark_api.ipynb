{
 "cells": [
  {
   "cell_type": "code",
   "execution_count": 1,
   "id": "6b4f3653-2208-4fc4-b6f6-4dbe263a76f2",
   "metadata": {},
   "outputs": [],
   "source": [
    "from pyspark.sql import SparkSession\n",
    "\n",
    "# Initialize a Spark session\n",
    "spark = SparkSession.builder \\\n",
    "    .appName(\"Spark API\") \\\n",
    "    .getOrCreate()"
   ]
  },
  {
   "cell_type": "code",
   "execution_count": 2,
   "id": "d4874d6e-dc88-42c2-9a9e-fda7e54a6d7a",
   "metadata": {},
   "outputs": [],
   "source": [
    "# Read the CSV files into a DataFrame accounts, country_abbreviation, transactions\n",
    "df_accounts = spark.read.csv(\"accounts.csv\", header=True, inferSchema=True, sep=\";\")\n",
    "df_country_abbreviation = spark.read.csv(\"country_abbreviation.csv\", header=True, inferSchema=True, sep=\";\")\n",
    "df_transactions = spark.read.csv(\"transactions.csv\", header=True, inferSchema=True, sep=\";\")"
   ]
  },
  {
   "cell_type": "code",
   "execution_count": 3,
   "id": "421d3b8d-5805-4f9d-838c-882c26c5f4c1",
   "metadata": {},
   "outputs": [
    {
     "name": "stdout",
     "output_type": "stream",
     "text": [
      "+-----------------+------------+\n",
      "|country_full_name|abbreviation|\n",
      "+-----------------+------------+\n",
      "|      Switzerland|          CH|\n",
      "+-----------------+------------+\n",
      "\n"
     ]
    }
   ],
   "source": [
    "#get Switzerland code\n",
    "df_country_abbreviation.filter(df_country_abbreviation.country_full_name == 'Switzerland' ).show()"
   ]
  },
  {
   "cell_type": "code",
   "execution_count": 4,
   "id": "41ca2402-c0c8-4b47-9725-4985739ed745",
   "metadata": {},
   "outputs": [],
   "source": [
    "#get Swiss accounts with Full Name columne\n",
    "from pyspark.sql.functions import concat_ws, col\n",
    "df_accounts = df_accounts.filter(df_accounts.country == 'CH').withColumn('user_full_name', concat_ws(' ', col('first_name'), col('last_name'))).select(\"id\",\"user_full_name\")"
   ]
  },
  {
   "cell_type": "code",
   "execution_count": 5,
   "id": "bf30489b-40e2-4791-91a2-00a1ab8c01fe",
   "metadata": {},
   "outputs": [],
   "source": [
    "#Pick possitive transactions with year amount\n",
    "from pyspark.sql.functions import year\n",
    "df_transactions = df_transactions.filter(df_transactions.amount>0).withColumn(\"year\", year(col('transaction_date'))).select(\"id\", \"amount\", \"year\")"
   ]
  },
  {
   "cell_type": "code",
   "execution_count": 6,
   "id": "79281027-2f91-4462-b221-0279ec586320",
   "metadata": {},
   "outputs": [],
   "source": [
    "#Filter transactions per account\n",
    "df_transactions = df_transactions.join(df_accounts, on=\"id\").select(df_accounts[\"user_full_name\"], df_transactions[\"amount\"], df_transactions[\"year\"])"
   ]
  },
  {
   "cell_type": "code",
   "execution_count": 7,
   "id": "ccc6d9f3-0437-4e5d-af61-dedcb1beb287",
   "metadata": {},
   "outputs": [],
   "source": [
    "#The Ressult\n",
    "pivoted_df = df_transactions.groupBy(\"user_full_name\").pivot(\"year\").sum(\"amount\")"
   ]
  },
  {
   "cell_type": "code",
   "execution_count": 8,
   "id": "415705af-df74-4641-aa83-3c83ad180b23",
   "metadata": {},
   "outputs": [
    {
     "name": "stdout",
     "output_type": "stream",
     "text": [
      "+----------------+--------+------------------+------------------+--------+--------+------------------+------------------+-------+------------------+------------------+------------------+\n",
      "|  user_full_name|    2011|              2012|              2013|    2014|    2015|              2016|              2017|   2018|              2019|              2020|              2021|\n",
      "+----------------+--------+------------------+------------------+--------+--------+------------------+------------------+-------+------------------+------------------+------------------+\n",
      "|   Connie Gibson|    null|           8486.84|           3664.69| 7385.69|    null|           1717.48|           2436.81|   null|           5545.76|              null|              null|\n",
      "|    Paige Taylor|    null|              null|           5618.18|    null|    null|           2784.89|           2634.62|   null|           9963.01|          14458.31|            436.22|\n",
      "|  Adison Douglas|    null|          10622.48|          14322.94|    null|    null|              null|           6328.92|8248.97|              null|              null|           3406.01|\n",
      "|    Arnold Kelly|    null|           8771.92|              null|12260.09| 2920.82|           1359.71|              null|6084.71|              null|              null|           9068.72|\n",
      "|   Justin Cooper|20224.62|           5977.15|              null|16800.75| 6475.07|              null|              null|2582.08|           5888.01|            1988.9|              null|\n",
      "| Kirsten Stevens| 1008.24|              null|            366.76| 8655.74|    null|           1080.08|              null|   null|              null|           9788.55|              null|\n",
      "|     Amber Evans|    null|           3798.16|              null|    null|    null|13363.730000000001|           7020.42|6696.24|            942.82|11777.369999999999|              null|\n",
      "|   Arnold Morris|    null|              null|              null|12931.32| 2026.07|              null|           2641.35|   null|           3427.39|              null|           8965.33|\n",
      "|  Dale Alexander| 9022.91|           9812.92|              null| 2848.98|    null|          10517.91|              null|3863.86|              null|          20184.66|13121.400000000001|\n",
      "|   Darcy Edwards|    null|              null|              null|16848.72|    null|           7922.11|10337.599999999999|   null|           3722.62|            7545.8|              null|\n",
      "|Charlie Anderson|  6809.2|           5100.17|              null|12423.34| 5351.78|           6502.27|              null|   null|24717.589999999997|              null|           6316.73|\n",
      "|    April Harper|  7841.0|           13925.4|           1128.23|    null|14423.01|           8253.21|              null|   null|              null|          15071.61|              null|\n",
      "|     Blake Moore|    null| 7885.150000000001|              null|15699.94|    null|           2882.76|           6943.04|3428.67|              null|           7861.35|           8448.15|\n",
      "|      Clark Hall|    null|           1784.62|              null|    null|    null|           2125.18|              null|   null|           6097.56|           8677.36|          12687.51|\n",
      "|  Stuart Hawkins|    null|              null|           1279.27|    null|    null|           1453.43|              null|6499.72|              null|           2035.15|11150.640000000001|\n",
      "|  Kelsey Spencer| 8000.61|14881.710000000001|           9079.28| 6572.99|    null|           7699.19|              null| 4867.4|              null|              null|              null|\n",
      "|  Olivia Hawkins| 8112.16|           1196.61|           7345.82|  576.65|    null|             82.74|              null|   null|           1244.63|              null|           4903.52|\n",
      "|      Daryl Reed| 8236.85|              null|              null|    null| 3755.61|            1529.8|              null|8891.51|              null|              null|           9841.84|\n",
      "|   Michael Smith| 10089.7|           5472.81|              null| 14594.2|    null|           3695.08|              null|8645.05|           8809.05|           2365.13|           6361.37|\n",
      "|    Julia Bailey| 21385.1|           8524.32|15236.189999999999| 3997.32|   60.17|          10723.63|           3713.31|   null|              null|          14140.26|13086.829999999998|\n",
      "+----------------+--------+------------------+------------------+--------+--------+------------------+------------------+-------+------------------+------------------+------------------+\n",
      "only showing top 20 rows\n",
      "\n"
     ]
    }
   ],
   "source": [
    "pivoted_df.show()"
   ]
  },
  {
   "cell_type": "code",
   "execution_count": null,
   "id": "719ce376-269e-466f-a712-9683f7f1b895",
   "metadata": {},
   "outputs": [],
   "source": []
  },
  {
   "cell_type": "code",
   "execution_count": null,
   "id": "e90169a4-9a96-4f50-af0c-a30b5fab6555",
   "metadata": {},
   "outputs": [],
   "source": []
  }
 ],
 "metadata": {
  "kernelspec": {
   "display_name": "Python 3 (ipykernel)",
   "language": "python",
   "name": "python3"
  },
  "language_info": {
   "codemirror_mode": {
    "name": "ipython",
    "version": 3
   },
   "file_extension": ".py",
   "mimetype": "text/x-python",
   "name": "python",
   "nbconvert_exporter": "python",
   "pygments_lexer": "ipython3",
   "version": "3.11.4"
  }
 },
 "nbformat": 4,
 "nbformat_minor": 5
}
